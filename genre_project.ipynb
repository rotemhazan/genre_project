{
 "cells": [
  {
   "cell_type": "code",
   "execution_count": 3,
   "metadata": {},
   "outputs": [
    {
     "name": "stderr",
     "output_type": "stream",
     "text": [
      "/Users/Rotem/venv/audio/lib/python3.7/site-packages/torchaudio/backend/utils.py:54: UserWarning: \"sox\" backend is being deprecated. The default backend will be changed to \"sox_io\" backend in 0.8.0 and \"sox\" backend will be removed in 0.9.0. Please migrate to \"sox_io\" backend. Please refer to https://github.com/pytorch/audio/issues/903 for the detail.\n",
      "  '\"sox\" backend is being deprecated. '\n"
     ]
    }
   ],
   "source": [
    "import argparse\n",
    "import torch\n",
    "import numpy as np\n",
    "import torch.optim as optim\n",
    "import os \n",
    "\n",
    "from data_loader import MusicDastset, BooksDataset\n",
    "from model import LeNet, VGG \n",
    "from train import train,test "
   ]
  },
  {
   "cell_type": "code",
   "execution_count": 4,
   "metadata": {},
   "outputs": [
    {
     "data": {
      "text/plain": [
       "_StoreAction(option_strings=['--patience'], dest='patience', nargs=None, const=None, default=15, type=<class 'int'>, choices=None, help='how many epochs of no loss improvement should we wait before stop training', metavar='N')"
      ]
     },
     "execution_count": 4,
     "metadata": {},
     "output_type": "execute_result"
    }
   ],
   "source": [
    "# Training settings\n",
    "parser = argparse.ArgumentParser(description='ConvNets for Speech Commands Recognition')\n",
    "parser.add_argument('--dataset', default='GTZAN', help='choose dataset (GTZAN or LibriSpeech)')\n",
    "parser.add_argument('--batch_size', type=int, default=100, metavar='N', help='training and valid batch size')\n",
    "parser.add_argument('--test_batch_size', type=int, default=100, metavar='N', help='batch size for testing')\n",
    "parser.add_argument('--arc', default='LeNet', help='network architecture: LeNet, VGG11, VGG13, VGG16, VGG19')\n",
    "parser.add_argument('--epochs', type=int, default=200, metavar='N', help='number of epochs to train')\n",
    "parser.add_argument('--lr', type=float, default=0.001, metavar='LR', help='learning rate')\n",
    "parser.add_argument('--momentum', type=float, default=0.9, metavar='M', help='SGD momentum, for SGD only')\n",
    "parser.add_argument('--cuda', default=True, help='enable CUDA')\n",
    "parser.add_argument('--seed', type=int, default=1234, metavar='S', help='random seed')\n",
    "parser.add_argument('--log-interval', type=int, default=10, metavar='N', help='num of batches to wait until logging train status')\n",
    "parser.add_argument('--patience', type=int, default=15, metavar='N', help='how many epochs of no loss improvement should we wait before stop training')"
   ]
  },
  {
   "cell_type": "code",
   "execution_count": 5,
   "metadata": {},
   "outputs": [
    {
     "name": "stdout",
     "output_type": "stream",
     "text": [
      "cuda: False\n"
     ]
    }
   ],
   "source": [
    "args, unknown = parser.parse_known_args()\n",
    "args.arc = 'VGG11'\n",
    "args.cuda = args.cuda and torch.cuda.is_available()\n",
    "print(\"cuda: {}\".format(args.cuda))\n",
    "torch.manual_seed(args.seed)\n",
    "np.random.seed(args.seed)\n",
    "\n",
    "if args.cuda:\n",
    "    torch.cuda.manual_seed(args.seed)\n",
    "    torch.cuda.manual_seed_all(args.seed)\n",
    "    torch.backends.cudnn.deterministic = True\n",
    "    torch.backends.cudnn.benchmark = False"
   ]
  },
  {
   "cell_type": "markdown",
   "metadata": {},
   "source": [
    "# פרק 2 - הגדרת הבעיות"
   ]
  },
  {
   "cell_type": "markdown",
   "metadata": {},
   "source": [
    "המדגם הראשון הוא נתוני המוזיקה והמדגם השני הוא נתוני הספרים "
   ]
  },
  {
   "cell_type": "code",
   "execution_count": 6,
   "metadata": {},
   "outputs": [],
   "source": [
    "#choose and load dataset\n",
    "if args.dataset == \"GTZAN\":\n",
    "    GTZAN_path = 'music/GTZAN/genres_original.16kHz'\n",
    "    train_dataset = MusicDastset(root=GTZAN_path + \"/train\", train = True)\n",
    "    valid_dataset = MusicDastset(root=GTZAN_path + \"/val\", train = False)\n",
    "    test_dataset = MusicDastset(root=GTZAN_path + \"/test\", train = False)\n",
    "else:\n",
    "    train_dataset = BooksDataset(\"speech2genre\", url=\"train-clean-100\", folder_in_archive=\"\", download=False)\n",
    "    valid_dataset = BooksDataset(\"speech2genre\", url=\"dev-clean\", folder_in_archive=\"\", download=False)\n",
    "    test_dataset = BooksDataset(\"speech2genre\", url=\"test-clean\", folder_in_archive=\"\", download=False)\n",
    "    \n",
    "num_classes = train_dataset.num_classes\n",
    "train_loader = torch.utils.data.DataLoader(\n",
    "    train_dataset, batch_size=args.batch_size, shuffle=True,\n",
    "    num_workers=0, pin_memory=args.cuda, sampler=None)\n",
    "\n",
    "valid_loader = torch.utils.data.DataLoader(\n",
    "    valid_dataset, batch_size=args.batch_size, shuffle=None,\n",
    "    num_workers=0, pin_memory=args.cuda, sampler=None)\n",
    "\n",
    "test_loader = torch.utils.data.DataLoader(\n",
    "    test_dataset, batch_size=args.test_batch_size, shuffle=None,\n",
    "    num_workers=0, pin_memory=args.cuda, sampler=None)"
   ]
  },
  {
   "cell_type": "markdown",
   "metadata": {},
   "source": [
    "# פרק 3 - הצגת הפתרון לבעיה "
   ]
  },
  {
   "cell_type": "markdown",
   "metadata": {},
   "source": [
    "model.py ניתן לראות את כל הפרק הזה במסמך הנקרא"
   ]
  },
  {
   "cell_type": "code",
   "execution_count": 7,
   "metadata": {},
   "outputs": [],
   "source": [
    "# build model\n",
    "if args.arc == 'LeNet':\n",
    "    model = LeNet(num_classes=num_classes)\n",
    "elif args.arc.startswith('VGG'):\n",
    "    model = VGG(args.arc, num_classes=num_classes)\n",
    "else:\n",
    "    model = LeNet(num_classes=num_classes)\n",
    "\n",
    "if args.cuda:\n",
    "    print('Using CUDA with {0} GPUs'.format(torch.cuda.device_count()))\n",
    "    model = torch.nn.DataParallel(model).cuda()"
   ]
  },
  {
   "cell_type": "markdown",
   "metadata": {},
   "source": [
    "# פרק 1 - למידת מכונה"
   ]
  },
  {
   "cell_type": "code",
   "execution_count": 8,
   "metadata": {},
   "outputs": [],
   "source": [
    "# define optimizer\n",
    "optimizer = optim.SGD(model.parameters(), lr=args.lr, momentum=args.momentum, weight_decay=0.005)"
   ]
  },
  {
   "cell_type": "markdown",
   "metadata": {},
   "source": [
    "# פרק 4 - תוצאות ומסקנות "
   ]
  },
  {
   "cell_type": "markdown",
   "metadata": {},
   "source": [
    "train.py ניתן לראות את כל הפרק הזה במסמך הנקרא"
   ]
  },
  {
   "cell_type": "code",
   "execution_count": null,
   "metadata": {},
   "outputs": [],
   "source": [
    "best_valid_loss = np.inf\n",
    "iteration = 0\n",
    "epoch = 1\n",
    "\n",
    "# trainint with early stopping\n",
    "while (epoch < args.epochs + 1) and (iteration < args.patience):\n",
    "    train(train_loader, model, optimizer, epoch, args.cuda, args.log_interval)\n",
    "    print('Epoch {0}'.format(str(epoch)))\n",
    "    valid_loss, acc = test(valid_loader, model, args.cuda)\n",
    "    acc_save = 1-acc\n",
    "    if acc_save > best_valid_loss:\n",
    "        iteration += 1\n",
    "        print('Loss was not improved, iteration {0}'.format(str(iteration)))\n",
    "    else:\n",
    "        print('Saving model...')\n",
    "        iteration = 0\n",
    "        best_valid_loss = acc_save\n",
    "        state = {\n",
    "            'net': model.module.state_dict() if args.cuda else model.state_dict(),\n",
    "            'acc': valid_loss,\n",
    "            'epoch': epoch,\n",
    "        }\n",
    "        if not os.path.isdir('checkpoint'):\n",
    "            os.mkdir('checkpoint')\n",
    "        torch.save(state, './checkpoint/{}.t7'.format(args.arc))\n",
    "    epoch += 1\n",
    "\n",
    "# test model\n",
    "checkpoint = torch.load('./checkpoint/{}.t7'.format(args.arc),map_location = lambda storage, loc: storage)\n",
    "\n",
    "if args.arc == 'LeNet':\n",
    "    test_model = LeNet(num_classes=num_classes)\n",
    "elif args.arc.startswith('VGG'):\n",
    "    test_model = VGG(args.arc, num_classes=num_classes)\n",
    "else:\n",
    "    test_model = LeNet(num_classes=num_classes)\n",
    "\n",
    "test_model.load_state_dict(checkpoint[\"net\"])\n",
    "\n",
    "if args.cuda:\n",
    "    print('Using CUDA with {0} GPUs'.format(torch.cuda.device_count()))\n",
    "    test_model = torch.nn.DataParallel(test_model).cuda()\n",
    "\n",
    "test(valid_loader, test_model, args.cuda)\n",
    "test(test_loader, test_model, args.cuda)"
   ]
  },
  {
   "cell_type": "code",
   "execution_count": null,
   "metadata": {},
   "outputs": [],
   "source": []
  }
 ],
 "metadata": {
  "kernelspec": {
   "display_name": "Python 3",
   "language": "python",
   "name": "python3"
  },
  "language_info": {
   "codemirror_mode": {
    "name": "ipython",
    "version": 3
   },
   "file_extension": ".py",
   "mimetype": "text/x-python",
   "name": "python",
   "nbconvert_exporter": "python",
   "pygments_lexer": "ipython3",
   "version": "3.7.7"
  }
 },
 "nbformat": 4,
 "nbformat_minor": 4
}
